{
 "cells": [
  {
   "cell_type": "code",
   "execution_count": 1,
   "metadata": {},
   "outputs": [],
   "source": [
    "import os\n",
    "import sys\n",
    "import seaborn as sns\n",
    "pd = os.path.split(os.getcwd())[0]\n",
    "if pd not in sys.path:\n",
    "    sys.path.append(pd)"
   ]
  },
  {
   "cell_type": "code",
   "execution_count": 2,
   "metadata": {},
   "outputs": [
    {
     "name": "stderr",
     "output_type": "stream",
     "text": [
      "/usr/pkg/lib/python3.6/site-packages/h5py/__init__.py:36: FutureWarning: Conversion of the second argument of issubdtype from `float` to `np.floating` is deprecated. In future, it will be treated as `np.float64 == np.dtype(float).type`.\n",
      "  from ._conv import register_converters as _register_converters\n",
      "Using TensorFlow backend.\n"
     ]
    }
   ],
   "source": [
    "import matplotlib.pyplot as plt\n",
    "from hypernets import *\n",
    "import os\n",
    "import numpy as np\n",
    "from tensorflow import set_random_seed\n",
    "set_random_seed(4)\n",
    "from numpy.random import seed\n",
    "from sklearn.preprocessing import  StandardScaler\n",
    "seed(3)\n"
   ]
  },
  {
   "cell_type": "code",
   "execution_count": 3,
   "metadata": {},
   "outputs": [],
   "source": [
    "# modes= ['basic', 'deep_implicit', 'bayes_by_gaussian_dropout']\n",
    "# modes= ['deep_implicit','bayes_by_gaussian_dropout', 'basic','deepst_n_gaussian']\n",
    "models = [ Hyper_Net_GAN,]\n",
    "modes= ['dense',]\n",
    "# models = [ Hyper_Net_WGAN,]\n",
    "\n",
    "#\n",
    "\n",
    "size=100\n",
    "sample_size = 64\n",
    "n_train = 500\n",
    "left,right = 0, 30\n",
    "\n",
    "MainNetInputDim = 5\n",
    "xxx = np.linspace(left,right,500*MainNetInputDim).reshape((500,MainNetInputDim))\n",
    "yyy= np.sin(xxx)\n",
    "\n",
    "main_net_config ={}\n",
    "main_net_config['units'] = [2,10,1]\n",
    "main_net_config['activation'] = 'tanh'\n",
    "main_net_config['output_activation'] = None\n",
    "\n",
    "# num_hiddens = [8,]\n",
    "num_hiddens = [3,5,8]\n",
    "\n",
    "z_dims = [2,5,10,]\n",
    "# z_dims = [10,]\n",
    "n_points = 10\n",
    "gan = None"
   ]
  },
  {
   "cell_type": "code",
   "execution_count": 39,
   "metadata": {},
   "outputs": [],
   "source": [
    "\n",
    "\n",
    "def run(model_type, funct, mode, num_hidden, z_dim,x,y,points):\n",
    "    g_out_dim = weights_dim(main_net_config['units'])\n",
    "    g_h_dim= 10 * g_out_dim\n",
    "    gan = model_type(main_net_config, g_input_dim= z_dim, g_num_hidden=num_hidden//2, g_hidden_dim=g_h_dim,\n",
    "                        c_num_hidden=num_hidden, c_hidden_dim=g_out_dim*2//3, sample_size=sample_size, mode= mode)\n",
    "    gan.sample_real = (lambda sample_size: np.random.multivariate_normal(mean=np.zeros(shape=(g_out_dim,)), cov=np.eye(g_out_dim), size=sample_size ))\n",
    "\n",
    "    gan.build_model()\n",
    "    directory = \"./picture1/\"+ str(funct) + \"/\"+ model_type.__name__+ \"_\" + mode + str(num_hidden)+\"_\"+str(z_dim)+\"_\"+str(points)+\"_50_500\"\n",
    "    if not os.path.exists(directory):\n",
    "        os.makedirs(directory)\n",
    "\n",
    "    z = np.random.multivariate_normal(mean=np.zeros(shape=(z_dim,)), cov=np.eye(z_dim), size=size)\n",
    "    z1 = np.random.multivariate_normal(mean=np.zeros(shape=(z_dim,)), cov=1.5*np.eye(z_dim), size=size)\n",
    "\n",
    "\n",
    "    scaler = StandardScaler()\n",
    "    x_= scaler.fit_transform(x)\n",
    "    for iii in range(3):\n",
    "        n_c_pretrain=20\n",
    "        if iii == 0:\n",
    "            n_c_pretrain=100\n",
    "        gan.train(x_, y, n_train = n_train,  n_c_pretrain = n_c_pretrain ,n_c_train_perit = 20, n_c_train_perinterval = 50, c_train_interval = 300)\n",
    "        xx = scaler.transform(xxx)\n",
    "        t = gan.predict(xx, z)\n",
    "        t1 = gan.predict(xx, z1)\n",
    "        fig=plt.figure()\n",
    "    #     plt.ylim(-2,2)\n",
    "        plt.xlim(left,right)\n",
    "        for i in range(size):\n",
    "            plt.plot(xxx, t1[i, :], color='red', alpha=0.1)\n",
    "            plt.plot(xxx,t[i,:],color='b', alpha=0.2)\n",
    "        plt.plot(xxx,yyy, color='r')\n",
    "        plt.plot(x,y, 'ro')\n",
    "    #     plt.xlabel('GAN after {} epochs'.format((iii+1)*500))\n",
    "    #     plt.legend((a,b),('fake', 'real'),scatterpoints=1,bbox_to_anchor=(1.35,.0),loc='lower right',fontsize=14)\n",
    "        plt.savefig(directory+'/f_{0}.png'.format(iii+1))\n",
    "    #     plt.show(block=True)\n",
    "        fig.clf()\n",
    "        plt.close()\n",
    "    return gan\n",
    "\n"
   ]
  },
  {
   "cell_type": "code",
   "execution_count": null,
   "metadata": {},
   "outputs": [],
   "source": []
  },
  {
   "cell_type": "code",
   "execution_count": 40,
   "metadata": {},
   "outputs": [
    {
     "name": "stderr",
     "output_type": "stream",
     "text": [
      "  0%|          | 0/500 [00:00<?, ?it/s]\n"
     ]
    },
    {
     "ename": "ValueError",
     "evalue": "Error when checking input: expected net_in to have shape (None, 2) but got array with shape (100, 5)",
     "traceback": [
      "\u001b[0;31m---------------------------------------------------------------------------\u001b[0m",
      "\u001b[0;31mValueError\u001b[0m                                Traceback (most recent call last)",
      "\u001b[0;32m<ipython-input-40-53056d4c70e0>\u001b[0m in \u001b[0;36m<module>\u001b[0;34m()\u001b[0m\n\u001b[1;32m      9\u001b[0m \u001b[0mmodel_type\u001b[0m \u001b[0;34m=\u001b[0m \u001b[0mHyper_Net_GAN\u001b[0m\u001b[0;34m\u001b[0m\u001b[0m\n\u001b[1;32m     10\u001b[0m \u001b[0mfunct\u001b[0m \u001b[0;34m=\u001b[0m \u001b[0;36m1\u001b[0m\u001b[0;34m\u001b[0m\u001b[0m\n\u001b[0;32m---> 11\u001b[0;31m \u001b[0mgan\u001b[0m \u001b[0;34m=\u001b[0m\u001b[0mrun\u001b[0m\u001b[0;34m(\u001b[0m\u001b[0mmodel_type\u001b[0m\u001b[0;34m,\u001b[0m \u001b[0mfunct\u001b[0m\u001b[0;34m,\u001b[0m \u001b[0mmode\u001b[0m\u001b[0;34m,\u001b[0m \u001b[0mnum_hidden\u001b[0m\u001b[0;34m,\u001b[0m \u001b[0mz_dim\u001b[0m\u001b[0;34m,\u001b[0m\u001b[0mx\u001b[0m\u001b[0;34m,\u001b[0m\u001b[0my\u001b[0m\u001b[0;34m,\u001b[0m\u001b[0mpoints\u001b[0m\u001b[0;34m)\u001b[0m\u001b[0;34m\u001b[0m\u001b[0m\n\u001b[0m\u001b[1;32m     12\u001b[0m \u001b[0;34m\u001b[0m\u001b[0m\n",
      "\u001b[0;32m<ipython-input-39-da1f08b07826>\u001b[0m in \u001b[0;36mrun\u001b[0;34m(model_type, funct, mode, num_hidden, z_dim, x, y, points)\u001b[0m\n\u001b[1;32m     23\u001b[0m         \u001b[0;32mif\u001b[0m \u001b[0miii\u001b[0m \u001b[0;34m==\u001b[0m \u001b[0;36m0\u001b[0m\u001b[0;34m:\u001b[0m\u001b[0;34m\u001b[0m\u001b[0m\n\u001b[1;32m     24\u001b[0m             \u001b[0mn_c_pretrain\u001b[0m\u001b[0;34m=\u001b[0m\u001b[0;36m100\u001b[0m\u001b[0;34m\u001b[0m\u001b[0m\n\u001b[0;32m---> 25\u001b[0;31m         \u001b[0mgan\u001b[0m\u001b[0;34m.\u001b[0m\u001b[0mtrain\u001b[0m\u001b[0;34m(\u001b[0m\u001b[0mx_\u001b[0m\u001b[0;34m,\u001b[0m \u001b[0my\u001b[0m\u001b[0;34m,\u001b[0m \u001b[0mn_train\u001b[0m \u001b[0;34m=\u001b[0m \u001b[0mn_train\u001b[0m\u001b[0;34m,\u001b[0m  \u001b[0mn_c_pretrain\u001b[0m \u001b[0;34m=\u001b[0m \u001b[0mn_c_pretrain\u001b[0m \u001b[0;34m,\u001b[0m\u001b[0mn_c_train_perit\u001b[0m \u001b[0;34m=\u001b[0m \u001b[0;36m20\u001b[0m\u001b[0;34m,\u001b[0m \u001b[0mn_c_train_perinterval\u001b[0m \u001b[0;34m=\u001b[0m \u001b[0;36m50\u001b[0m\u001b[0;34m,\u001b[0m \u001b[0mc_train_interval\u001b[0m \u001b[0;34m=\u001b[0m \u001b[0;36m300\u001b[0m\u001b[0;34m)\u001b[0m\u001b[0;34m\u001b[0m\u001b[0m\n\u001b[0m\u001b[1;32m     26\u001b[0m         \u001b[0mxx\u001b[0m \u001b[0;34m=\u001b[0m \u001b[0mscaler\u001b[0m\u001b[0;34m.\u001b[0m\u001b[0mtransform\u001b[0m\u001b[0;34m(\u001b[0m\u001b[0mxxx\u001b[0m\u001b[0;34m)\u001b[0m\u001b[0;34m\u001b[0m\u001b[0m\n\u001b[1;32m     27\u001b[0m         \u001b[0mt\u001b[0m \u001b[0;34m=\u001b[0m \u001b[0mgan\u001b[0m\u001b[0;34m.\u001b[0m\u001b[0mpredict\u001b[0m\u001b[0;34m(\u001b[0m\u001b[0mxx\u001b[0m\u001b[0;34m,\u001b[0m \u001b[0mz\u001b[0m\u001b[0;34m)\u001b[0m\u001b[0;34m\u001b[0m\u001b[0m\n",
      "\u001b[0;32m/local/scratch/mashall/scratch/Myprojects/hypernet/hypernets.py\u001b[0m in \u001b[0;36mtrain\u001b[0;34m(self, x, y, n_train, n_c_pretrain, n_c_train_perit, n_c_train_perinterval, c_train_interval)\u001b[0m\n\u001b[1;32m    113\u001b[0m             \u001b[0myy\u001b[0m \u001b[0;34m=\u001b[0m \u001b[0mnp\u001b[0m\u001b[0;34m.\u001b[0m\u001b[0mtile\u001b[0m\u001b[0;34m(\u001b[0m\u001b[0my\u001b[0m\u001b[0;34m,\u001b[0m \u001b[0;34m(\u001b[0m\u001b[0mself\u001b[0m\u001b[0;34m.\u001b[0m\u001b[0msample_size\u001b[0m\u001b[0;34m,\u001b[0m \u001b[0;36m1\u001b[0m\u001b[0;34m)\u001b[0m\u001b[0;34m)\u001b[0m\u001b[0;34m.\u001b[0m\u001b[0mreshape\u001b[0m\u001b[0;34m(\u001b[0m\u001b[0;34m(\u001b[0m\u001b[0mself\u001b[0m\u001b[0;34m.\u001b[0m\u001b[0msample_size\u001b[0m\u001b[0;34m,\u001b[0m \u001b[0;34m*\u001b[0m\u001b[0my\u001b[0m\u001b[0;34m.\u001b[0m\u001b[0mshape\u001b[0m\u001b[0;34m)\u001b[0m\u001b[0;34m)\u001b[0m\u001b[0;34m\u001b[0m\u001b[0m\n\u001b[1;32m    114\u001b[0m \u001b[0;34m\u001b[0m\u001b[0m\n\u001b[0;32m--> 115\u001b[0;31m             \u001b[0mself\u001b[0m\u001b[0;34m.\u001b[0m\u001b[0mtrain_generator\u001b[0m\u001b[0;34m(\u001b[0m\u001b[0mxx\u001b[0m\u001b[0;34m,\u001b[0m \u001b[0myy\u001b[0m\u001b[0;34m)\u001b[0m\u001b[0;34m\u001b[0m\u001b[0m\n\u001b[0m\u001b[1;32m    116\u001b[0m \u001b[0;34m\u001b[0m\u001b[0m\n\u001b[1;32m    117\u001b[0m     \u001b[0;32mdef\u001b[0m \u001b[0mpredict\u001b[0m\u001b[0;34m(\u001b[0m\u001b[0mself\u001b[0m\u001b[0;34m,\u001b[0m \u001b[0mx\u001b[0m\u001b[0;34m,\u001b[0m \u001b[0mz\u001b[0m\u001b[0;34m=\u001b[0m\u001b[0;32mNone\u001b[0m\u001b[0;34m,\u001b[0m \u001b[0msample_size\u001b[0m\u001b[0;34m=\u001b[0m\u001b[0;36m1\u001b[0m\u001b[0;34m)\u001b[0m\u001b[0;34m:\u001b[0m\u001b[0;34m\u001b[0m\u001b[0m\n",
      "\u001b[0;32m/local/scratch/mashall/scratch/Myprojects/hypernet/hypernets.py\u001b[0m in \u001b[0;36mtrain_generator\u001b[0;34m(self, x, y)\u001b[0m\n\u001b[1;32m     96\u001b[0m                                           size=self.sample_size)\n\u001b[1;32m     97\u001b[0m         self.performance_log['generator'].append(\n\u001b[0;32m---> 98\u001b[0;31m             self.gan_model_tg.train_on_batch({'g_in': z, 'net_in': x}, [self.get_real_labels(self.sample_size), y]))\n\u001b[0m\u001b[1;32m     99\u001b[0m \u001b[0;34m\u001b[0m\u001b[0m\n\u001b[1;32m    100\u001b[0m     def train(self, x, y, n_train=100, n_c_pretrain=100, n_c_train_perit=1, n_c_train_perinterval=10,\n",
      "\u001b[0;32m~/.local/lib/python3.6/site-packages/keras/engine/training.py\u001b[0m in \u001b[0;36mtrain_on_batch\u001b[0;34m(self, x, y, sample_weight, class_weight)\u001b[0m\n\u001b[1;32m   1875\u001b[0m             \u001b[0mx\u001b[0m\u001b[0;34m,\u001b[0m \u001b[0my\u001b[0m\u001b[0;34m,\u001b[0m\u001b[0;34m\u001b[0m\u001b[0m\n\u001b[1;32m   1876\u001b[0m             \u001b[0msample_weight\u001b[0m\u001b[0;34m=\u001b[0m\u001b[0msample_weight\u001b[0m\u001b[0;34m,\u001b[0m\u001b[0;34m\u001b[0m\u001b[0m\n\u001b[0;32m-> 1877\u001b[0;31m             class_weight=class_weight)\n\u001b[0m\u001b[1;32m   1878\u001b[0m         \u001b[0;32mif\u001b[0m \u001b[0mself\u001b[0m\u001b[0;34m.\u001b[0m\u001b[0muses_learning_phase\u001b[0m \u001b[0;32mand\u001b[0m \u001b[0;32mnot\u001b[0m \u001b[0misinstance\u001b[0m\u001b[0;34m(\u001b[0m\u001b[0mK\u001b[0m\u001b[0;34m.\u001b[0m\u001b[0mlearning_phase\u001b[0m\u001b[0;34m(\u001b[0m\u001b[0;34m)\u001b[0m\u001b[0;34m,\u001b[0m \u001b[0mint\u001b[0m\u001b[0;34m)\u001b[0m\u001b[0;34m:\u001b[0m\u001b[0;34m\u001b[0m\u001b[0m\n\u001b[1;32m   1879\u001b[0m             \u001b[0mins\u001b[0m \u001b[0;34m=\u001b[0m \u001b[0mx\u001b[0m \u001b[0;34m+\u001b[0m \u001b[0my\u001b[0m \u001b[0;34m+\u001b[0m \u001b[0msample_weights\u001b[0m \u001b[0;34m+\u001b[0m \u001b[0;34m[\u001b[0m\u001b[0;36m1.\u001b[0m\u001b[0;34m]\u001b[0m\u001b[0;34m\u001b[0m\u001b[0m\n",
      "\u001b[0;32m~/.local/lib/python3.6/site-packages/keras/engine/training.py\u001b[0m in \u001b[0;36m_standardize_user_data\u001b[0;34m(self, x, y, sample_weight, class_weight, check_array_lengths, batch_size)\u001b[0m\n\u001b[1;32m   1474\u001b[0m                                     \u001b[0mself\u001b[0m\u001b[0;34m.\u001b[0m\u001b[0m_feed_input_shapes\u001b[0m\u001b[0;34m,\u001b[0m\u001b[0;34m\u001b[0m\u001b[0m\n\u001b[1;32m   1475\u001b[0m                                     \u001b[0mcheck_batch_axis\u001b[0m\u001b[0;34m=\u001b[0m\u001b[0;32mFalse\u001b[0m\u001b[0;34m,\u001b[0m\u001b[0;34m\u001b[0m\u001b[0m\n\u001b[0;32m-> 1476\u001b[0;31m                                     exception_prefix='input')\n\u001b[0m\u001b[1;32m   1477\u001b[0m         y = _standardize_input_data(y, self._feed_output_names,\n\u001b[1;32m   1478\u001b[0m                                     \u001b[0moutput_shapes\u001b[0m\u001b[0;34m,\u001b[0m\u001b[0;34m\u001b[0m\u001b[0m\n",
      "\u001b[0;32m~/.local/lib/python3.6/site-packages/keras/engine/training.py\u001b[0m in \u001b[0;36m_standardize_input_data\u001b[0;34m(data, names, shapes, check_batch_axis, exception_prefix)\u001b[0m\n\u001b[1;32m    121\u001b[0m                             \u001b[0;34m': expected '\u001b[0m \u001b[0;34m+\u001b[0m \u001b[0mnames\u001b[0m\u001b[0;34m[\u001b[0m\u001b[0mi\u001b[0m\u001b[0;34m]\u001b[0m \u001b[0;34m+\u001b[0m \u001b[0;34m' to have shape '\u001b[0m \u001b[0;34m+\u001b[0m\u001b[0;34m\u001b[0m\u001b[0m\n\u001b[1;32m    122\u001b[0m                             \u001b[0mstr\u001b[0m\u001b[0;34m(\u001b[0m\u001b[0mshape\u001b[0m\u001b[0;34m)\u001b[0m \u001b[0;34m+\u001b[0m \u001b[0;34m' but got array with shape '\u001b[0m \u001b[0;34m+\u001b[0m\u001b[0;34m\u001b[0m\u001b[0m\n\u001b[0;32m--> 123\u001b[0;31m                             str(data_shape))\n\u001b[0m\u001b[1;32m    124\u001b[0m     \u001b[0;32mreturn\u001b[0m \u001b[0mdata\u001b[0m\u001b[0;34m\u001b[0m\u001b[0m\n\u001b[1;32m    125\u001b[0m \u001b[0;34m\u001b[0m\u001b[0m\n",
      "\u001b[0;31mValueError\u001b[0m: Error when checking input: expected net_in to have shape (None, 2) but got array with shape (100, 5)"
     ],
     "output_type": "error"
    }
   ],
   "source": [
    "\n",
    "points = 100\n",
    "\n",
    "x = np.random.uniform(left+10,right-10, points*MainNetInputDim).reshape((points, MainNetInputDim))  # np.linspace(-1,10,6).reshape((6,1))\n",
    "y = np.sin(x)\n",
    "num_hidden = 3\n",
    "z_dim = 2\n",
    "mode = 'deep_implicit'\n",
    "model_type = Hyper_Net_GAN\n",
    "funct = 1\n",
    "gan =run(model_type, funct, mode, num_hidden, z_dim,x,y,points)\n",
    "\n"
   ]
  },
  {
   "cell_type": "code",
   "execution_count": 37,
   "metadata": {},
   "outputs": [
    {
     "name": "stdout",
     "output_type": "stream",
     "text": [
      "['loss', 'C_freezed_loss', 'M_loss']\n",
      "[3.0210536 4.3267703 6.7090473 ... 1.2624588 1.2747995 1.2747663]\n"
     ]
    },
    {
     "data": {
      "text/plain": [
       "[<matplotlib.lines.Line2D at 0x560ecc9f3578>]"
      ]
     },
     "execution_count": 37,
     "metadata": {},
     "output_type": "execute_result"
    },
    {
     "data": {
      "image/png": "[encoded data removed]",
      "text/plain": [
       "<matplotlib.figure.Figure at 0x560ecbd5ddf8>"
      ]
     },
     "metadata": {},
     "output_type": "display_data"
    }
   ],
   "source": [
    "import matplotlib.pyplot as plt\n",
    "# print(gan.performance_log)\n",
    "print(gan.gan_model_tg.metrics_names)\n",
    "history =np.array( gan.performance_log['generator'])\n",
    "print(history[:,2])\n",
    "plt.plot(history[:,1],'r')\n",
    "plt.plot(history[:,2],'b')"
   ]
  },
  {
   "cell_type": "code",
   "execution_count": 18,
   "metadata": {},
   "outputs": [
    {
     "name": "stdout",
     "output_type": "stream",
     "text": [
      "['loss', 'C_freezed_loss', 'M_loss']\n",
      "[ 3.2147264 21.03781    3.1253726 ...  1.1964155  1.1939614  1.1235427]\n"
     ]
    },
    {
     "data": {
      "text/plain": [
       "[<matplotlib.lines.Line2D at 0x560eaa21a818>]"
      ]
     },
     "execution_count": 18,
     "metadata": {},
     "output_type": "execute_result"
    },
    {
     "data": {
      "image/png": "[encoded data removed]",
      "text/plain": [
       "<matplotlib.figure.Figure at 0x560eaa2ebce8>"
      ]
     },
     "metadata": {},
     "output_type": "display_data"
    }
   ],
   "source": [
    "import matplotlib.pyplot as plt\n",
    "# print(gan.performance_log)\n",
    "print(gan.gan_model_tg.metrics_names)\n",
    "history =np.array( gan.performance_log['generator'])\n",
    "print(history[:,2])\n",
    "plt.plot(history[:,1],'r')\n",
    "plt.plot(history[:,2],'b')"
   ]
  },
  {
   "cell_type": "code",
   "execution_count": null,
   "metadata": {},
   "outputs": [],
   "source": [
    "\n",
    "for points in range(5,n_points):\n",
    "    for funct in range(10):\n",
    "        x = np.random.uniform(left+10,right-10, points).reshape((points, 1))  # np.linspace(-1,10,6).reshape((6,1))\n",
    "        y = np.sin(x)\n",
    "        for num_hidden in num_hiddens:\n",
    "            for z_dim in z_dims:\n",
    "                for mode in modes:\n",
    "                            for model_type in models:\n",
    "                                run(model_type, funct, mode, num_hidden, z_dim,x,y,points)\n",
    "                                print(\"==\")\n",
    "\n"
   ]
  },
  {
   "cell_type": "code",
   "execution_count": null,
   "metadata": {},
   "outputs": [],
   "source": []
  }
 ],
 "metadata": {
  "kernelspec": {
   "display_name": "Python 3",
   "language": "python",
   "name": "python3"
  },
  "language_info": {
   "codemirror_mode": {
    "name": "ipython",
    "version": 3
   },
   "file_extension": ".py",
   "mimetype": "text/x-python",
   "name": "python",
   "nbconvert_exporter": "python",
   "pygments_lexer": "ipython3",
   "version": "3.6.4"
  }
 },
 "nbformat": 4,
 "nbformat_minor": 2
}
